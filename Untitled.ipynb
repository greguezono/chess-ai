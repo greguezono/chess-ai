{
 "cells": [
  {
   "cell_type": "code",
   "execution_count": 2,
   "id": "8222b919",
   "metadata": {},
   "outputs": [
    {
     "name": "stdout",
     "output_type": "stream",
     "text": [
      "Collecting gym_chess\n",
      "  Downloading gym_chess-0.1.1-py3-none-any.whl (27 kB)\n",
      "Collecting gym<0.18.0,>=0.17.2\n",
      "  Downloading gym-0.17.3.tar.gz (1.6 MB)\n",
      "Collecting python-chess<0.32.0,>=0.31.1\n",
      "  Downloading python_chess-0.31.4-py3-none-any.whl (134 kB)\n",
      "Requirement already satisfied: scipy in c:\\users\\lfcsa\\anaconda3\\lib\\site-packages (from gym<0.18.0,>=0.17.2->gym_chess) (1.7.1)\n",
      "Requirement already satisfied: numpy>=1.10.4 in c:\\users\\lfcsa\\anaconda3\\lib\\site-packages (from gym<0.18.0,>=0.17.2->gym_chess) (1.24.2)\n",
      "Collecting pyglet<=1.5.0,>=1.4.0\n",
      "  Downloading pyglet-1.5.0-py2.py3-none-any.whl (1.0 MB)\n",
      "Collecting cloudpickle<1.7.0,>=1.2.0\n",
      "  Downloading cloudpickle-1.6.0-py3-none-any.whl (23 kB)\n",
      "Requirement already satisfied: future in c:\\users\\lfcsa\\anaconda3\\lib\\site-packages (from pyglet<=1.5.0,>=1.4.0->gym<0.18.0,>=0.17.2->gym_chess) (0.18.2)\n",
      "Collecting numpy>=1.10.4\n",
      "  Using cached numpy-1.22.4-cp39-cp39-win_amd64.whl (14.7 MB)\n",
      "Building wheels for collected packages: gym\n",
      "  Building wheel for gym (setup.py): started\n",
      "  Building wheel for gym (setup.py): finished with status 'done'\n",
      "  Created wheel for gym: filename=gym-0.17.3-py3-none-any.whl size=1654651 sha256=be398e599c14fea70e95835ee2d0423c044880b3f017f8ae860c55f0f5b5159b\n",
      "  Stored in directory: c:\\users\\lfcsa\\appdata\\local\\pip\\cache\\wheels\\5d\\06\\a4\\57a926b2e87a5e1f21551577750549206dde639e19a5ac72d5\n",
      "Successfully built gym\n",
      "Installing collected packages: numpy, pyglet, cloudpickle, python-chess, gym, gym-chess\n",
      "  Attempting uninstall: numpy\n",
      "    Found existing installation: numpy 1.24.2\n",
      "    Uninstalling numpy-1.24.2:\n",
      "      Successfully uninstalled numpy-1.24.2\n",
      "  Attempting uninstall: pyglet\n",
      "    Found existing installation: pyglet 1.3.2\n",
      "    Uninstalling pyglet-1.3.2:\n",
      "      Successfully uninstalled pyglet-1.3.2\n",
      "  Attempting uninstall: cloudpickle\n",
      "    Found existing installation: cloudpickle 2.2.1\n",
      "    Uninstalling cloudpickle-2.2.1:\n",
      "      Successfully uninstalled cloudpickle-2.2.1\n",
      "  Attempting uninstall: gym\n",
      "    Found existing installation: gym 0.21.0\n",
      "    Uninstalling gym-0.21.0:\n",
      "      Successfully uninstalled gym-0.21.0\n",
      "Successfully installed cloudpickle-1.6.0 gym-0.17.3 gym-chess-0.1.1 numpy-1.22.4 pyglet-1.5.0 python-chess-0.31.4\n",
      "Note: you may need to restart the kernel to use updated packages.\n"
     ]
    },
    {
     "name": "stderr",
     "output_type": "stream",
     "text": [
      "WARNING: Ignoring invalid distribution -ffi (c:\\users\\lfcsa\\anaconda3\\lib\\site-packages)\n",
      "WARNING: Ignoring invalid distribution -ffi (c:\\users\\lfcsa\\anaconda3\\lib\\site-packages)\n",
      "WARNING: Ignoring invalid distribution -ffi (c:\\users\\lfcsa\\anaconda3\\lib\\site-packages)\n",
      "    WARNING: Ignoring invalid distribution -ffi (c:\\users\\lfcsa\\anaconda3\\lib\\site-packages)\n",
      "    WARNING: Ignoring invalid distribution -ffi (c:\\users\\lfcsa\\anaconda3\\lib\\site-packages)\n",
      "    WARNING: Ignoring invalid distribution -ffi (c:\\users\\lfcsa\\anaconda3\\lib\\site-packages)\n",
      "    WARNING: Ignoring invalid distribution -ffi (c:\\users\\lfcsa\\anaconda3\\lib\\site-packages)\n",
      "WARNING: Ignoring invalid distribution -ffi (c:\\users\\lfcsa\\anaconda3\\lib\\site-packages)\n",
      "WARNING: Ignoring invalid distribution -ffi (c:\\users\\lfcsa\\anaconda3\\lib\\site-packages)\n",
      "WARNING: Ignoring invalid distribution -ffi (c:\\users\\lfcsa\\anaconda3\\lib\\site-packages)\n",
      "WARNING: Ignoring invalid distribution -ffi (c:\\users\\lfcsa\\anaconda3\\lib\\site-packages)\n",
      "WARNING: Ignoring invalid distribution -ffi (c:\\users\\lfcsa\\anaconda3\\lib\\site-packages)\n",
      "WARNING: Ignoring invalid distribution -ffi (c:\\users\\lfcsa\\anaconda3\\lib\\site-packages)\n",
      "ERROR: pip's dependency resolver does not currently take into account all the packages that are installed. This behaviour is the source of the following dependency conflicts.\n",
      "spyder 5.1.5 requires pyqt5<5.13, which is not installed.\n",
      "spyder 5.1.5 requires pyqtwebengine<5.13, which is not installed.\n",
      "daal4py 2021.3.0 requires daal==2021.2.3, which is not installed.\n",
      "stable-baselines3 1.7.0 requires gym==0.21, but you have gym 0.17.3 which is incompatible.\n",
      "numba 0.54.1 requires numpy<1.21,>=1.17, but you have numpy 1.22.4 which is incompatible.\n",
      "WARNING: Ignoring invalid distribution -ffi (c:\\users\\lfcsa\\anaconda3\\lib\\site-packages)\n",
      "WARNING: Ignoring invalid distribution -ffi (c:\\users\\lfcsa\\anaconda3\\lib\\site-packages)\n",
      "WARNING: Ignoring invalid distribution -ffi (c:\\users\\lfcsa\\anaconda3\\lib\\site-packages)\n"
     ]
    }
   ],
   "source": [
    "pip install gym_chess"
   ]
  },
  {
   "cell_type": "code",
   "execution_count": 70,
   "id": "a03a1a69",
   "metadata": {},
   "outputs": [],
   "source": [
    "import gym\n",
    "import gym_chess\n",
    "import gym_chess\n",
    "env = gym.make('Chess-v0')"
   ]
  },
  {
   "cell_type": "code",
   "execution_count": 71,
   "id": "aefae777",
   "metadata": {},
   "outputs": [
    {
     "name": "stdout",
     "output_type": "stream",
     "text": [
      "♜ ♞ ♝ ♛ ♚ ♝ ♞ ♜\n",
      "♟ ♟ ♟ ♟ ♟ ♟ ♟ ♟\n",
      "⭘ ⭘ ⭘ ⭘ ⭘ ⭘ ⭘ ⭘\n",
      "⭘ ⭘ ⭘ ⭘ ⭘ ⭘ ⭘ ⭘\n",
      "⭘ ⭘ ⭘ ⭘ ⭘ ⭘ ⭘ ⭘\n",
      "⭘ ⭘ ⭘ ⭘ ⭘ ⭘ ⭘ ⭘\n",
      "♙ ♙ ♙ ♙ ♙ ♙ ♙ ♙\n",
      "♖ ♘ ♗ ♕ ♔ ♗ ♘ ♖\n"
     ]
    }
   ],
   "source": [
    "env.reset()\n",
    "print(env.render())"
   ]
  },
  {
   "cell_type": "code",
   "execution_count": 74,
   "id": "366161a3",
   "metadata": {},
   "outputs": [
    {
     "name": "stdout",
     "output_type": "stream",
     "text": [
      "b1c3\n"
     ]
    }
   ],
   "source": [
    "import gym\n",
    "import gym_chess\n",
    "import random\n",
    "\n",
    "env = gym.make('Chess-v0')\n",
    "print(env.render())\n",
    "\n",
    "env.reset()\n",
    "done = False\n",
    "\n",
    "white = 0\n",
    "black = 0\n",
    "\n",
    "isWhite = False \n",
    "while not done:\n",
    "    action = random.sample(env.legal_moves)\n",
    "    obs, rew, done, trunc = env.step(action)\n",
    "    print(env.render(mode='unicode'))\n",
    "\n",
    "env.close()"
   ]
  },
  {
   "cell_type": "code",
   "execution_count": 77,
   "id": "58630b7d",
   "metadata": {},
   "outputs": [
    {
     "ename": "AttributeError",
     "evalue": "'Chess' object has no attribute 'Move'",
     "output_type": "error",
     "traceback": [
      "\u001b[1;31m---------------------------------------------------------------------------\u001b[0m",
      "\u001b[1;31mAttributeError\u001b[0m                            Traceback (most recent call last)",
      "\u001b[1;32m~\\AppData\\Local\\Temp/ipykernel_7024/2773711596.py\u001b[0m in \u001b[0;36m<module>\u001b[1;34m\u001b[0m\n\u001b[1;32m----> 1\u001b[1;33m \u001b[0mprint\u001b[0m\u001b[1;33m(\u001b[0m\u001b[0menv\u001b[0m\u001b[1;33m.\u001b[0m\u001b[0mstep\u001b[0m\u001b[1;33m(\u001b[0m\u001b[0menv\u001b[0m\u001b[1;33m.\u001b[0m\u001b[0mMove\u001b[0m\u001b[1;33m.\u001b[0m\u001b[0mfrom_uci\u001b[0m\u001b[1;33m(\u001b[0m\u001b[1;34m'e2e4'\u001b[0m\u001b[1;33m)\u001b[0m\u001b[1;33m)\u001b[0m\u001b[1;33m)\u001b[0m\u001b[1;33m\u001b[0m\u001b[1;33m\u001b[0m\u001b[0m\n\u001b[0m\u001b[0;32m      2\u001b[0m \u001b[0mprint\u001b[0m\u001b[1;33m(\u001b[0m\u001b[0menv\u001b[0m\u001b[1;33m.\u001b[0m\u001b[0mrender\u001b[0m\u001b[1;33m(\u001b[0m\u001b[1;33m)\u001b[0m\u001b[1;33m)\u001b[0m\u001b[1;33m\u001b[0m\u001b[1;33m\u001b[0m\u001b[0m\n",
      "\u001b[1;31mAttributeError\u001b[0m: 'Chess' object has no attribute 'Move'"
     ]
    }
   ],
   "source": []
  },
  {
   "cell_type": "code",
   "execution_count": null,
   "id": "4fa31367",
   "metadata": {},
   "outputs": [],
   "source": []
  }
 ],
 "metadata": {
  "kernelspec": {
   "display_name": "Python 3 (ipykernel)",
   "language": "python",
   "name": "python3"
  },
  "language_info": {
   "codemirror_mode": {
    "name": "ipython",
    "version": 3
   },
   "file_extension": ".py",
   "mimetype": "text/x-python",
   "name": "python",
   "nbconvert_exporter": "python",
   "pygments_lexer": "ipython3",
   "version": "3.9.7"
  }
 },
 "nbformat": 4,
 "nbformat_minor": 5
}
